{
 "cells": [
  {
   "cell_type": "markdown",
   "metadata": {
    "ExecuteTime": {
     "end_time": "2017-01-17T16:48:47.067438",
     "start_time": "2017-01-17T16:48:47.054084"
    }
   },
   "source": [
    "### Download the data"
   ]
  },
  {
   "cell_type": "code",
   "execution_count": 2,
   "metadata": {
    "ExecuteTime": {
     "end_time": "2017-01-18T22:53:21.139612",
     "start_time": "2017-01-18T22:53:20.591541"
    },
    "collapsed": true
   },
   "outputs": [],
   "source": [
    "##Import the libraries\n",
    "from bs4 import BeautifulSoup\n",
    "import pandas as pd\n",
    "import urllib2\n",
    "from collections import defaultdict\n",
    "%matplotlib inline"
   ]
  },
  {
   "cell_type": "code",
   "execution_count": 3,
   "metadata": {
    "ExecuteTime": {
     "end_time": "2017-01-18T22:53:24.582572",
     "start_time": "2017-01-18T22:53:23.111934"
    },
    "collapsed": false
   },
   "outputs": [],
   "source": [
    "##Get the staion data\n",
    "URL=\"https://s3.amazonaws.com/capitalbikeshare-data/index.html\"\n",
    "URL2=\"https://feeds.capitalbikeshare.com/stations/stations.xml\"\n",
    "\n",
    "#Stations\n",
    "stationsXML=BeautifulSoup(urllib2.urlopen(URL2), \"lxml\")\n",
    "test=[]\n",
    "for station in stationsXML.find_all('station'):\n",
    "    tempStation={}\n",
    "    for stationType in station:\n",
    "        tempStation[stationType.name]=stationType.text\n",
    "    test.append(tempStation)\n",
    "#Creates pandas structure and gives format\n",
    "stations=pd.DataFrame(test).set_index('id')\n",
    "stations.drop(['installdate', 'installed', 'locked', 'public', 'lastcommwithserver', 'temporary', 'removaldate', 'latestupdatetime'], axis=1, inplace=True)\n",
    "\n",
    "stations.nbbikes=stations.nbbikes.astype('int')\n",
    "stations.nbemptydocks=stations.nbemptydocks.astype('int')\n",
    "stations.lat=stations.lat.astype('float64')\n",
    "stations.long=stations.long.astype('float64')\n",
    "\n",
    "stations['nbdocks']=pd.Series(stations.nbbikes+stations.nbemptydocks, index=stations.index)"
   ]
  },
  {
   "cell_type": "code",
   "execution_count": 4,
   "metadata": {
    "ExecuteTime": {
     "end_time": "2017-01-18T22:53:27.822077",
     "start_time": "2017-01-18T22:53:27.774415"
    },
    "collapsed": false
   },
   "outputs": [
    {
     "data": {
      "text/plain": [
       "u'<table border=\"0\" class=\"dataframe table\">\\n  <thead>\\n    <tr style=\"text-align: right;\">\\n      <th>name</th>\\n      <th>nbdocks</th>\\n    </tr>\\n  </thead>\\n  <tbody>\\n    <tr>\\n      <td>Columbus Circle / Union Station</td>\\n      <td>42</td>\\n    </tr>\\n    <tr>\\n      <td>Massachusetts Ave &amp; Dupont Circle NW</td>\\n      <td>39</td>\\n    </tr>\\n    <tr>\\n      <td>1st &amp; N St  SE</td>\\n      <td>39</td>\\n    </tr>\\n    <tr>\\n      <td>USDA / 12th &amp; Independence Ave SW</td>\\n      <td>39</td>\\n    </tr>\\n    <tr>\\n      <td>Maryland &amp; Independence Ave SW</td>\\n      <td>37</td>\\n    </tr>\\n    <tr>\\n      <td>17th &amp; K St NW / Farragut Square</td>\\n      <td>35</td>\\n    </tr>\\n    <tr>\\n      <td>Reston Station</td>\\n      <td>34</td>\\n    </tr>\\n  </tbody>\\n</table>'"
      ]
     },
     "execution_count": 4,
     "metadata": {},
     "output_type": "execute_result"
    }
   ],
   "source": [
    "#Get tge top N stations\n",
    "topStations=stations[['name', 'nbdocks']].sort_values('nbdocks', ascending=False).head(7)\n",
    "topStations.to_html(index=False, classes='table', border=0)"
   ]
  },
  {
   "cell_type": "code",
   "execution_count": 5,
   "metadata": {
    "ExecuteTime": {
     "end_time": "2017-01-18T22:53:31.564394",
     "start_time": "2017-01-18T22:53:31.556012"
    },
    "collapsed": false
   },
   "outputs": [],
   "source": [
    "#Download data from rides\n",
    "##PENDING IMPLEMENTATION\n",
    "testCase='https://s3.amazonaws.com/capitalbikeshare-data/2015-Q1-cabi-trip-history-data.zip'"
   ]
  },
  {
   "cell_type": "code",
   "execution_count": 6,
   "metadata": {
    "ExecuteTime": {
     "end_time": "2017-01-18T22:53:57.168351",
     "start_time": "2017-01-18T22:53:33.651681"
    },
    "collapsed": false
   },
   "outputs": [
    {
     "data": {
      "text/html": [
       "<div>\n",
       "<table border=\"1\" class=\"dataframe\">\n",
       "  <thead>\n",
       "    <tr style=\"text-align: right;\">\n",
       "      <th></th>\n",
       "      <th>Total duration (ms)</th>\n",
       "      <th>Start date</th>\n",
       "      <th>Start station</th>\n",
       "      <th>End date</th>\n",
       "      <th>End station</th>\n",
       "      <th>Bike number</th>\n",
       "      <th>Subscription Type</th>\n",
       "      <th>day</th>\n",
       "      <th>hour</th>\n",
       "    </tr>\n",
       "  </thead>\n",
       "  <tbody>\n",
       "    <tr>\n",
       "      <th>0</th>\n",
       "      <td>2394764</td>\n",
       "      <td>2015-01-01 00:02:00</td>\n",
       "      <td>Constitution Ave &amp; 2nd St NW/DOL</td>\n",
       "      <td>2015-01-01 00:42:00</td>\n",
       "      <td>15th &amp; K St NW</td>\n",
       "      <td>W00612</td>\n",
       "      <td>Casual</td>\n",
       "      <td>3</td>\n",
       "      <td>0</td>\n",
       "    </tr>\n",
       "    <tr>\n",
       "      <th>1</th>\n",
       "      <td>2389161</td>\n",
       "      <td>2015-01-01 00:02:00</td>\n",
       "      <td>Constitution Ave &amp; 2nd St NW/DOL</td>\n",
       "      <td>2015-01-01 00:42:00</td>\n",
       "      <td>15th &amp; K St NW</td>\n",
       "      <td>W01140</td>\n",
       "      <td>Casual</td>\n",
       "      <td>3</td>\n",
       "      <td>0</td>\n",
       "    </tr>\n",
       "    <tr>\n",
       "      <th>2</th>\n",
       "      <td>468047</td>\n",
       "      <td>2015-01-01 00:04:00</td>\n",
       "      <td>20th &amp; E St NW</td>\n",
       "      <td>2015-01-01 00:12:00</td>\n",
       "      <td>20th &amp; O St NW / Dupont South</td>\n",
       "      <td>W01226</td>\n",
       "      <td>Registered</td>\n",
       "      <td>3</td>\n",
       "      <td>0</td>\n",
       "    </tr>\n",
       "    <tr>\n",
       "      <th>3</th>\n",
       "      <td>348068</td>\n",
       "      <td>2015-01-01 00:07:00</td>\n",
       "      <td>Park Rd &amp; Holmead Pl NW</td>\n",
       "      <td>2015-01-01 00:13:00</td>\n",
       "      <td>15th &amp; Euclid St  NW</td>\n",
       "      <td>W20216</td>\n",
       "      <td>Registered</td>\n",
       "      <td>3</td>\n",
       "      <td>0</td>\n",
       "    </tr>\n",
       "    <tr>\n",
       "      <th>4</th>\n",
       "      <td>980844</td>\n",
       "      <td>2015-01-01 00:09:00</td>\n",
       "      <td>Jefferson Dr &amp; 14th St SW</td>\n",
       "      <td>2015-01-01 00:25:00</td>\n",
       "      <td>Thomas Circle</td>\n",
       "      <td>W21005</td>\n",
       "      <td>Casual</td>\n",
       "      <td>3</td>\n",
       "      <td>0</td>\n",
       "    </tr>\n",
       "  </tbody>\n",
       "</table>\n",
       "</div>"
      ],
      "text/plain": [
       "   Total duration (ms)          Start date                     Start station  \\\n",
       "0              2394764 2015-01-01 00:02:00  Constitution Ave & 2nd St NW/DOL   \n",
       "1              2389161 2015-01-01 00:02:00  Constitution Ave & 2nd St NW/DOL   \n",
       "2               468047 2015-01-01 00:04:00                    20th & E St NW   \n",
       "3               348068 2015-01-01 00:07:00           Park Rd & Holmead Pl NW   \n",
       "4               980844 2015-01-01 00:09:00         Jefferson Dr & 14th St SW   \n",
       "\n",
       "             End date                    End station Bike number  \\\n",
       "0 2015-01-01 00:42:00                 15th & K St NW      W00612   \n",
       "1 2015-01-01 00:42:00                 15th & K St NW      W01140   \n",
       "2 2015-01-01 00:12:00  20th & O St NW / Dupont South      W01226   \n",
       "3 2015-01-01 00:13:00           15th & Euclid St  NW      W20216   \n",
       "4 2015-01-01 00:25:00                  Thomas Circle      W21005   \n",
       "\n",
       "  Subscription Type  day  hour  \n",
       "0            Casual    3     0  \n",
       "1            Casual    3     0  \n",
       "2        Registered    3     0  \n",
       "3        Registered    3     0  \n",
       "4            Casual    3     0  "
      ]
     },
     "execution_count": 6,
     "metadata": {},
     "output_type": "execute_result"
    }
   ],
   "source": [
    "##Read zip file\n",
    "import zipfile\n",
    "#extract csv\n",
    "zip_ref = zipfile.ZipFile('Exclude/2015-Q1-cabi-trip-history-data.zip', 'r')\n",
    "zip_ref.extractall('Exclude/')\n",
    "#Read csv into pandas\n",
    "dateparse = lambda x: pd.datetime.strptime(x, '%m/%d/%Y %H:%M')\n",
    "trip2015Q1=pd.read_csv('Exclude/2015-Q1-Trips-History-Data.csv', parse_dates=['Start date', 'End date'], date_parser=dateparse)\n",
    "\n",
    "#Perform any additinal columns\n",
    "trip2015Q1['day']=trip2015Q1['Start date'].dt.dayofweek\n",
    "trip2015Q1['hour']=trip2015Q1['Start date'].dt.hour\n",
    "trip2015Q1.head(5)"
   ]
  },
  {
   "cell_type": "code",
   "execution_count": 7,
   "metadata": {
    "ExecuteTime": {
     "end_time": "2017-01-18T22:54:02.872734",
     "start_time": "2017-01-18T22:54:02.570029"
    },
    "collapsed": false
   },
   "outputs": [
    {
     "data": {
      "text/html": [
       "<div>\n",
       "<table border=\"1\" class=\"dataframe\">\n",
       "  <thead>\n",
       "    <tr style=\"text-align: right;\">\n",
       "      <th></th>\n",
       "      <th>Departure</th>\n",
       "      <th>Arrival</th>\n",
       "      <th>DepartureRate</th>\n",
       "      <th>ArrivalRate</th>\n",
       "    </tr>\n",
       "  </thead>\n",
       "  <tbody>\n",
       "    <tr>\n",
       "      <th>Columbus Circle / Union Station</th>\n",
       "      <td>11194.0</td>\n",
       "      <td>11589</td>\n",
       "      <td>125.775281</td>\n",
       "      <td>130.213483</td>\n",
       "    </tr>\n",
       "    <tr>\n",
       "      <th>Massachusetts Ave &amp; Dupont Circle NW</th>\n",
       "      <td>7453.0</td>\n",
       "      <td>9529</td>\n",
       "      <td>83.741573</td>\n",
       "      <td>107.067416</td>\n",
       "    </tr>\n",
       "    <tr>\n",
       "      <th>15th &amp; P St NW</th>\n",
       "      <td>6526.0</td>\n",
       "      <td>7502</td>\n",
       "      <td>73.325843</td>\n",
       "      <td>84.292135</td>\n",
       "    </tr>\n",
       "    <tr>\n",
       "      <th>New Hampshire Ave &amp; T St NW</th>\n",
       "      <td>6026.0</td>\n",
       "      <td>5315</td>\n",
       "      <td>67.707865</td>\n",
       "      <td>59.719101</td>\n",
       "    </tr>\n",
       "    <tr>\n",
       "      <th>Thomas Circle</th>\n",
       "      <td>6018.0</td>\n",
       "      <td>5573</td>\n",
       "      <td>67.617978</td>\n",
       "      <td>62.617978</td>\n",
       "    </tr>\n",
       "  </tbody>\n",
       "</table>\n",
       "</div>"
      ],
      "text/plain": [
       "                                      Departure  Arrival  DepartureRate  \\\n",
       "Columbus Circle / Union Station         11194.0    11589     125.775281   \n",
       "Massachusetts Ave & Dupont Circle NW     7453.0     9529      83.741573   \n",
       "15th & P St NW                           6526.0     7502      73.325843   \n",
       "New Hampshire Ave & T St NW              6026.0     5315      67.707865   \n",
       "Thomas Circle                            6018.0     5573      67.617978   \n",
       "\n",
       "                                      ArrivalRate  \n",
       "Columbus Circle / Union Station        130.213483  \n",
       "Massachusetts Ave & Dupont Circle NW   107.067416  \n",
       "15th & P St NW                          84.292135  \n",
       "New Hampshire Ave & T St NW             59.719101  \n",
       "Thomas Circle                           62.617978  "
      ]
     },
     "execution_count": 7,
     "metadata": {},
     "output_type": "execute_result"
    }
   ],
   "source": [
    "#Add to the stations the number of arrivales and departures\n",
    "totDias=(trip2015Q1['Start date'].max()-trip2015Q1['Start date'].min()).days\n",
    "groupedStart=trip2015Q1.groupby(by='Start station')['Start date'].count().to_frame()\n",
    "groupedEnded=trip2015Q1.groupby(by='End station')['Start date'].count().to_frame()\n",
    "stationsTrips=pd.merge(groupedStart, groupedEnded, how='outer', left_index=True, right_index=True)\n",
    "stationsTrips.columns=['Departure', 'Arrival']\n",
    "stationsTrips['DepartureRate']=stationsTrips['Departure']/totDias\n",
    "stationsTrips['ArrivalRate']=stationsTrips['Arrival']/totDias\n",
    "stationsTrips.sort_values(by='Departure', ascending=False, inplace=True)\n",
    "stationsTrips.head(5)"
   ]
  },
  {
   "cell_type": "markdown",
   "metadata": {},
   "source": [
    "### Plot  to understand the data"
   ]
  },
  {
   "cell_type": "code",
   "execution_count": 8,
   "metadata": {
    "ExecuteTime": {
     "end_time": "2017-01-18T22:54:06.452607",
     "start_time": "2017-01-18T22:54:05.759820"
    },
    "collapsed": true
   },
   "outputs": [],
   "source": [
    "import seaborn as sns"
   ]
  },
  {
   "cell_type": "code",
   "execution_count": 18,
   "metadata": {
    "ExecuteTime": {
     "end_time": "2017-01-18T23:02:07.634627",
     "start_time": "2017-01-18T23:02:06.635279"
    },
    "collapsed": false
   },
   "outputs": [
    {
     "data": {
      "image/png": "[encoded data removed]",
      "text/plain": [
       "<matplotlib.figure.Figure at 0x7ff6d5c304d0>"
      ]
     },
     "metadata": {},
     "output_type": "display_data"
    }
   ],
   "source": [
    "sns.set_style(\"dark\")\n",
    "sns.color_palette(\"hls\", 8)\n",
    "diPlot=sns.distplot(stations.nbdocks, kde=False);\n",
    "diPlot.set(xlabel='Total Docks', ylabel='Total Stations')\n",
    "diPlot.figure.savefig('static/img/distStations.png')"
   ]
  },
  {
   "cell_type": "code",
   "execution_count": 36,
   "metadata": {
    "ExecuteTime": {
     "end_time": "2017-01-18T23:18:20.126526",
     "start_time": "2017-01-18T23:18:18.028731"
    },
    "collapsed": false
   },
   "outputs": [
    {
     "data": {
      "image/png": "[encoded data removed]",
      "text/plain": [
       "<matplotlib.figure.Figure at 0x7ff6d41b0a50>"
      ]
     },
     "metadata": {},
     "output_type": "display_data"
    }
   ],
   "source": [
    "import matplotlib.pyplot as plt \n",
    "## Create distribution of Days vs. Weekends rides on hours\n",
    "weekEndRides=trip2015Q1[trip2015Q1['day']>=6]['hour']\n",
    "weekDayRides=trip2015Q1[trip2015Q1['day']<6]['hour']\n",
    "\n",
    "sns.set(style=\"white\", palette=\"muted\", color_codes=True)\n",
    "\n",
    "fig = plt.figure(figsize=(21, 7))\n",
    "ax1 = fig.add_subplot(121)\n",
    "ax2 = fig.add_subplot(122)\n",
    "sns.despine(left=True)\n",
    "\n",
    "sns.distplot(weekEndRides, kde=False, color='g', ax=ax1)\n",
    "sns.distplot(weekDayRides, kde=False, color='r', ax=ax2)\n",
    "\n",
    "#distWeekD=sns.distplot(weekEndRides, kde=False, color=\"g\")\n",
    "#distWeekE=sns.distplot(weekDayRides, kde=False, color=\"g\")\n",
    "\n",
    "#distWeekD.figure.savefig('static/img/distWeekD.png')\n",
    "#distWeekE.figure.savefig('static/img/distWeekE.png')\n",
    "fig.savefig('static/img/distWeeks.png')\n"
   ]
  },
  {
   "cell_type": "code",
   "execution_count": null,
   "metadata": {
    "collapsed": true
   },
   "outputs": [],
   "source": [
    "## Create distribution of Days vs. Weekends rides on hours\n",
    "\n",
    "# sns.set(style=\"white\", palette=\"muted\", color_codes=True)\n",
    "# sns.distplot(weekEndRides, kde=False)\n",
    "\n",
    "#distWeekD=sns.distplot(weekEndRides, kde=False, color=\"g\")\n",
    "#distWeekE=sns.distplot(weekDayRides, kde=False, color=\"g\")\n",
    "\n",
    "#distWeekD.figure.savefig('static/img/distWeekD.png')\n",
    "#distWeekE.figure.savefig('static/img/distWeekE.png')"
   ]
  }
 ],
 "metadata": {
  "anaconda-cloud": {},
  "kernelspec": {
   "display_name": "Python [default]",
   "language": "python",
   "name": "python2"
  },
  "language_info": {
   "codemirror_mode": {
    "name": "ipython",
    "version": 2
   },
   "file_extension": ".py",
   "mimetype": "text/x-python",
   "name": "python",
   "nbconvert_exporter": "python",
   "pygments_lexer": "ipython2",
   "version": "2.7.12"
  }
 },
 "nbformat": 4,
 "nbformat_minor": 2
}
